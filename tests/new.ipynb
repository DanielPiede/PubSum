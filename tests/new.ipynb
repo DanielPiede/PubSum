{
 "cells": [
  {
   "cell_type": "code",
   "execution_count": 71,
   "metadata": {},
   "outputs": [
    {
     "name": "stdout",
     "output_type": "stream",
     "text": [
      "{'Title': 'Real-world Evidence Comparing Tofacitinib and Vedolizumab in Anti-TNF-experienced Patients With Ulcerative Colitis.', 'Date': '26/06/2023', 'DOI': '10.1093/ibd/izad115'}\n",
      "\n",
      "{'Title': 'Effectiveness of Non-Budesonide Therapies in Management of Microscopic Colitis: A Systematic Review and Meta-analysis.', 'Date': '26/06/2023', 'DOI': '10.1007/s40265-023-01914-4'}\n",
      "\n",
      "{'Title': 'Letter: Experience of switching vedolizumab treatment from intravenous to subcutaneous formulation in Hungary.', 'Date': '2023', 'DOI': '10.1111/apt.17610'}\n",
      "\n",
      "{'Title': 'Comparing Patient-Reported Outcomes Among Anti-TNF Experienced Patients With Ulcerative Colitis Initiating Vedolizumab Versus Tofacitinib.', 'Date': '29/05/2023', 'DOI': '10.1093/crocol/otad031'}\n",
      "\n",
      "{'Title': 'Concurrent immune checkpoint inhibition and selective immunosuppressive therapy in patients with immune-related enterocolitis.', 'Date': '2023', 'DOI': '10.1136/jitc-2023-007195'}\n",
      "\n"
     ]
    }
   ],
   "source": [
    "import requests\n",
    "import xml.etree.ElementTree as ET\n",
    "\n",
    "base_url = \"https://eutils.ncbi.nlm.nih.gov/entrez/eutils/\"\n",
    "api_url = base_url + \"esearch.fcgi\"\n",
    "params = {\n",
    "    \"db\": \"pubmed\",\n",
    "    \"retmode\": \"xml\",\n",
    "    \"retmax\": 5,  # Number of papers to retrieve (adjust as needed)\n",
    "    \"term\": \"Entyvio\",  # Modify the search query to match your needs\n",
    "    \"sort\": \"pub+date\"\n",
    "}\n",
    "\n",
    "response = requests.get(api_url, params=params)\n",
    "if response.status_code == 200:\n",
    "    xml_content = response.content\n",
    "    root = ET.fromstring(xml_content)\n",
    "    pubmed_ids = [id_node.text for id_node in root.findall(\".//Id\")]\n",
    "    \n",
    "    url = f\"https://eutils.ncbi.nlm.nih.gov/entrez/eutils/efetch.fcgi?db=pubmed&id={','.join(pubmed_ids)}&rettype=xml\"\n",
    "    doi_response = requests.get(url)\n",
    "    records = doi_response.content\n",
    "\n",
    "    # Parse the XML records\n",
    "    root = ET.fromstring(records)\n",
    "\n",
    "    # List to store dictionaries\n",
    "    pubmed_list = []\n",
    "\n",
    "    # Find the relevant elements and extract their text\n",
    "    for pubmed_article in root.findall(\".//PubmedArticle\"):\n",
    "        # Dictionary to store the information\n",
    "        pubmed_dict = {}\n",
    "\n",
    "        # Extract title\n",
    "        title_element = pubmed_article.find(\".//ArticleTitle\")\n",
    "        pubmed_dict[\"Title\"] = title_element.text if title_element is not None else \"N/A\"\n",
    "\n",
    "        # Extract detailed date or fallback to year\n",
    "        pub_date_element = pubmed_article.find(\".//ArticleDate\")\n",
    "        if pub_date_element is not None:\n",
    "            year_element = pub_date_element.find(\"Year\")\n",
    "            year = year_element.text if year_element is not None else \"N/A\"\n",
    "\n",
    "            month_element = pub_date_element.find(\"Month\")\n",
    "            month = month_element.text if month_element is not None else \"N/A\"\n",
    "\n",
    "            day_element = pub_date_element.find(\"Day\")\n",
    "            day = day_element.text if day_element is not None else \"N/A\"\n",
    "\n",
    "            # Combine the detailed date components\n",
    "            pubmed_dict[\"Date\"] = f\"{day}/{month}/{year}\"\n",
    "        else:\n",
    "            # Fallback to year if detailed date is not available\n",
    "            year_element = pubmed_article.find(\".//PubDate/Year\")\n",
    "            pubmed_dict[\"Date\"] = year_element.text if year_element is not None else \"N/A\"\n",
    "\n",
    "        # Extract DOI\n",
    "        doi_element = pubmed_article.find(\".//ArticleId[@IdType='doi']\")\n",
    "        pubmed_dict[\"DOI\"] = doi_element.text if doi_element is not None else \"N/A\"\n",
    "\n",
    "        # Append the dictionary to the list\n",
    "        pubmed_list.append(pubmed_dict)\n",
    "\n",
    "    # Print the list of dictionaries\n",
    "    for pubmed_dict in pubmed_list:\n",
    "        print(pubmed_dict)\n",
    "        print()\n",
    "else:\n",
    "    print(\"Error occurred while retrieving paper IDs:\", response.status_code)\n"
   ]
  },
  {
   "cell_type": "code",
   "execution_count": 58,
   "metadata": {},
   "outputs": [
    {
     "ename": "SyntaxError",
     "evalue": "'return' outside function (3870330399.py, line 53)",
     "output_type": "error",
     "traceback": [
      "\u001b[1;36m  Cell \u001b[1;32mIn[58], line 53\u001b[1;36m\u001b[0m\n\u001b[1;33m    return(pubmed_list)\u001b[0m\n\u001b[1;37m    ^\u001b[0m\n\u001b[1;31mSyntaxError\u001b[0m\u001b[1;31m:\u001b[0m 'return' outside function\n"
     ]
    }
   ],
   "source": [
    "import requests\n",
    "import xml.etree.ElementTree as ET\n",
    "\n",
    "# PubMed IDs\n",
    "pubmed_ids = [\"37352154\", \"37358712\"]\n",
    "\n",
    "# Fetch the PubMed records in XML format\n",
    "url = f\"https://eutils.ncbi.nlm.nih.gov/entrez/eutils/efetch.fcgi?db=pubmed&id={','.join(pubmed_ids)}&rettype=xml\"\n",
    "response = requests.get(url)\n",
    "records = response.content\n",
    "\n",
    "# Parse the XML records\n",
    "root = ET.fromstring(records)\n",
    "\n",
    "# List to store dictionaries\n",
    "pubmed_list = []\n",
    "\n",
    "# Find the relevant elements and extract their text\n",
    "for pubmed_article in root.findall(\".//PubmedArticle\"):\n",
    "    # Dictionary to store the information\n",
    "    pubmed_dict = {}\n",
    "\n",
    "    # Extract title\n",
    "    title_element = pubmed_article.find(\".//ArticleTitle\")\n",
    "    pubmed_dict[\"Title\"] = title_element.text if title_element is not None else \"N/A\"\n",
    "\n",
    "    # Extract detailed date or fallback to year\n",
    "    pub_date_element = pubmed_article.find(\".//ArticleDate\")\n",
    "    if pub_date_element is not None:\n",
    "        year_element = pub_date_element.find(\"Year\")\n",
    "        year = year_element.text if year_element is not None else \"N/A\"\n",
    "\n",
    "        month_element = pub_date_element.find(\"Month\")\n",
    "        month = month_element.text if month_element is not None else \"N/A\"\n",
    "\n",
    "        day_element = pub_date_element.find(\"Day\")\n",
    "        day = day_element.text if day_element is not None else \"N/A\"\n",
    "\n",
    "        # Combine the detailed date components\n",
    "        pubmed_dict[\"Date\"] = f\"{day}/{month}/{year}\"\n",
    "    else:\n",
    "        # Fallback to year if detailed date is not available\n",
    "        year_element = pubmed_article.find(\".//PubDate/Year\")\n",
    "        pubmed_dict[\"Date\"] = year_element.text if year_element is not None else \"N/A\"\n",
    "\n",
    "    # Extract DOI\n",
    "    doi_element = pubmed_article.find(\".//ArticleId[@IdType='doi']\")\n",
    "    pubmed_dict[\"DOI\"] = doi_element.text if doi_element is not None else \"N/A\"\n",
    "\n",
    "    # Append the dictionary to the list\n",
    "    pubmed_list.append(pubmed_dict)\n",
    "\n",
    "    # Print the list of dictionaries\n",
    "    for pubmed_dict in pubmed_list:\n",
    "        print(pubmed_dict)\n",
    "        print()"
   ]
  },
  {
   "cell_type": "code",
   "execution_count": 45,
   "metadata": {},
   "outputs": [
    {
     "data": {
      "text/plain": [
       "'https://onlinelibrary.wiley.com/doi/pdf/10.1111/apt.17610'"
      ]
     },
     "execution_count": 45,
     "metadata": {},
     "output_type": "execute_result"
    }
   ],
   "source": [
    "from crossref.restful import Works\n",
    "\n",
    "works = Works()\n",
    "\n",
    "w1 = works.doi('10.1111/apt.17610')\n",
    "w1['link'][0]['URL']\n"
   ]
  }
 ],
 "metadata": {
  "kernelspec": {
   "display_name": "Python 3",
   "language": "python",
   "name": "python3"
  },
  "language_info": {
   "codemirror_mode": {
    "name": "ipython",
    "version": 3
   },
   "file_extension": ".py",
   "mimetype": "text/x-python",
   "name": "python",
   "nbconvert_exporter": "python",
   "pygments_lexer": "ipython3",
   "version": "3.11.1"
  },
  "orig_nbformat": 4
 },
 "nbformat": 4,
 "nbformat_minor": 2
}
