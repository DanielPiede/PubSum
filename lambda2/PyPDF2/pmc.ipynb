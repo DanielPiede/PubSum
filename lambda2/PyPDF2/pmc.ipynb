{
 "cells": [
  {
   "cell_type": "code",
   "execution_count": null,
   "metadata": {},
   "outputs": [
    {
     "ename": "",
     "evalue": "",
     "output_type": "error",
     "traceback": [
      "\u001b[1;31mThe kernel failed to start as 'MappingProxyType' could not be imported from 'most likely due to a circular import'.\n",
      "\u001b[1;31mClick <a href='https://aka.ms/kernelFailuresModuleImportErrFromFile'>here</a> for more info."
     ]
    }
   ],
   "source": [
    "from Bio import Entrez\n",
    "\n",
    "# Provide your email address to the Entrez API\n",
    "Entrez.email = 'your_email@example.com'\n",
    "\n",
    "def fetch_pmc_articles(search_term, retmax=10):\n",
    "    handle = Entrez.esearch(db='pmc', term=search_term, retmax=retmax)\n",
    "    record = Entrez.read(handle)\n",
    "    handle.close()\n",
    "\n",
    "    id_list = record['IdList']\n",
    "    fetch_handle = Entrez.efetch(db='pmc', id=id_list, rettype='xml', retmode='text')\n",
    "\n",
    "    return fetch_handle.read()\n",
    "\n",
    "# Example usage\n",
    "search_term = 'cancer'\n",
    "retmax = 10  # Maximum number of articles to retrieve\n",
    "\n",
    "xml_content = fetch_pmc_articles(search_term, retmax)\n",
    "print(xml_content)"
   ]
  },
  {
   "cell_type": "code",
   "execution_count": null,
   "metadata": {},
   "outputs": [
    {
     "ename": "",
     "evalue": "",
     "output_type": "error",
     "traceback": [
      "\u001b[1;31mThe kernel failed to start as 'MappingProxyType' could not be imported from 'most likely due to a circular import'.\n",
      "\u001b[1;31mClick <a href='https://aka.ms/kernelFailuresModuleImportErrFromFile'>here</a> for more info."
     ]
    }
   ],
   "source": [
    "event = {\"Search\": \"Entyvio\"}\n",
    "lambda_handler(event)"
   ]
  }
 ],
 "metadata": {
  "kernelspec": {
   "display_name": "Python 3",
   "language": "python",
   "name": "python3"
  },
  "language_info": {
   "name": "python",
   "version": "3.11.1"
  },
  "orig_nbformat": 4
 },
 "nbformat": 4,
 "nbformat_minor": 2
}
