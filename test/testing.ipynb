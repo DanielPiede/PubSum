{
 "cells": [
  {
   "cell_type": "code",
   "execution_count": 21,
   "metadata": {},
   "outputs": [
    {
     "name": "stdout",
     "output_type": "stream",
     "text": [
      "Getting 10 publications regarding Entyvio...\n",
      "Total number of publications containing Entyvio: 1837\n",
      "titles: ['Aliment Pharmacol Ther. 2023 Jul;58(2):262-263. doi: 10.1111/apt.17610.', 'Crohns Colitis 360. 2023 May 29;5(3):otad031. doi: 10.1093/crocol/otad031. eCollection 2023 Jul.', 'J Immunother Cancer. 2023 Jun;11(6):e007195. doi: 10.1136/jitc-2023-007195.', 'Medicine (Baltimore). 2023 May 19;102(20):e33784. doi: 10.1097/MD.0000000000033784.', 'Aliment Pharmacol Ther. 2023 Jun 15. doi: 10.1111/apt.17616.', 'Paediatr Drugs. 2023 Jun 15. doi: 10.1007/s40272-023-00579-6.', 'Sci Transl Med. 2023 Jun 14;15(700):eabq4006. doi: 10.1126/scitranslmed.abq4006. Epub 2023 Jun 14.', 'Rev Esp Enferm Dig. 2023 Jun 14. doi: 10.17235/reed.2023.9491/2023.', 'Zhonghua Yi Xue Za Zhi. 2023 Jun 20;103(23):1759-1766. doi: 10.3760/cma.j.cn112137-20221216-02663.', 'J Med Cases. 2023 May;14(5):155-161. doi: 10.14740/jmc4041. Epub 2023 May 31.']\n"
     ]
    }
   ],
   "source": [
    "#!/usr/bin/env python\n",
    "\n",
    "from Bio import Entrez\n",
    "from Bio import Medline\n",
    "\n",
    "MAX_COUNT = 10\n",
    "TERM = 'Entyvio'\n",
    "\n",
    "print('Getting {0} publications regarding {1}...'.format(MAX_COUNT, TERM))\n",
    "Entrez.email = 'A.N.Other@example.com'\n",
    "h = Entrez.esearch(db='pubmed', retmax=MAX_COUNT, term=TERM)\n",
    "result = Entrez.read(h)\n",
    "print('Total number of publications containing {0}: {1}'.format(TERM, result['Count']))\n",
    "ids = result['IdList']\n",
    "h = Entrez.efetch(db='pubmed', id=ids, rettype='medline', retmode='text')\n",
    "records = Medline.parse(h)\n",
    "\n",
    "titles = []\n",
    "sources = []\n",
    "for record in records:\n",
    "    ti = record.get('SO')\n",
    "    titles.append(ti)\n",
    "print('titles: {0}'.format(titles))"
   ]
  },
  {
   "cell_type": "code",
   "execution_count": 7,
   "metadata": {},
   "outputs": [
    {
     "name": "stdout",
     "output_type": "stream",
     "text": [
      "<_io.TextIOWrapper encoding='UTF-8'>\n"
     ]
    }
   ],
   "source": [
    "print(h)"
   ]
  },
  {
   "cell_type": "code",
   "execution_count": 3,
   "metadata": {},
   "outputs": [],
   "source": [
    "import json\n",
    "import requests\n",
    "import xml.etree.ElementTree as ET\n",
    "\n",
    "def lambda_handler(event, context):\n",
    "    \n",
    "    base_url = \"https://eutils.ncbi.nlm.nih.gov/entrez/eutils/\"\n",
    "    api_url = base_url + \"esearch.fcgi\"\n",
    "    params = {\n",
    "        \"db\": \"pubmed\",\n",
    "        \"retmode\": \"xml\",\n",
    "        \"retmax\": 5,  # Number of papers to retrieve (adjust as needed)\n",
    "        \"term\": event['search'],  # Modify the search query to match your needs\n",
    "        \"sort\": \"pub+date\"\n",
    "    }\n",
    "    \n",
    "    response = requests.get(api_url, params=params)\n",
    "    if response.status_code == 200:\n",
    "        xml_content = response.content\n",
    "        root = ET.fromstring(xml_content)\n",
    "        pubmed_ids = [id_node.text for id_node in root.findall(\".//Id\")]\n",
    "        \n",
    "        url = f\"https://eutils.ncbi.nlm.nih.gov/entrez/eutils/efetch.fcgi?db=pubmed&id={','.join(pubmed_ids)}&rettype=xml\"\n",
    "        doi_response = requests.get(url)\n",
    "        records = doi_response.content\n",
    "    \n",
    "        # Parse the XML records\n",
    "        root = ET.fromstring(records)\n",
    "    \n",
    "        # List to store dictionaries\n",
    "        pubmed_list = []\n",
    "    \n",
    "        # Find the relevant elements and extract their text\n",
    "        for pubmed_article in root.findall(\".//PubmedArticle\"):\n",
    "            # Dictionary to store the information\n",
    "            pubmed_dict = {}\n",
    "    \n",
    "            # Extract title\n",
    "            title_element = pubmed_article.find(\".//ArticleTitle\")\n",
    "            pubmed_dict[\"Title\"] = title_element.text if title_element is not None else \"N/A\"\n",
    "    \n",
    "            # Extract detailed date or fallback to year\n",
    "            pub_date_element = pubmed_article.find(\".//ArticleDate\")\n",
    "            if pub_date_element is not None:\n",
    "                year_element = pub_date_element.find(\"Year\")\n",
    "                year = year_element.text if year_element is not None else \"N/A\"\n",
    "    \n",
    "                month_element = pub_date_element.find(\"Month\")\n",
    "                month = month_element.text if month_element is not None else \"N/A\"\n",
    "    \n",
    "                day_element = pub_date_element.find(\"Day\")\n",
    "                day = day_element.text if day_element is not None else \"N/A\"\n",
    "    \n",
    "                # Combine the detailed date components\n",
    "                pubmed_dict[\"Date\"] = f\"{day}/{month}/{year}\"\n",
    "            else:\n",
    "                # Fallback to year if detailed date is not available\n",
    "                year_element = pubmed_article.find(\".//PubDate/Year\")\n",
    "                pubmed_dict[\"Date\"] = year_element.text if year_element is not None else \"N/A\"\n",
    "    \n",
    "            # Extract DOI\n",
    "            doi_element = pubmed_article.find(\".//ArticleId[@IdType='doi']\")\n",
    "            pubmed_dict[\"DOI\"] = doi_element.text if doi_element is not None else \"N/A\"\n",
    "    \n",
    "            # Append the dictionary to the list\n",
    "            pubmed_list.append(pubmed_dict)\n",
    "\n",
    "        # Create the JSON response\n",
    "        json_response = {\n",
    "            'statusCode': 200,\n",
    "            'body': {}\n",
    "        }\n",
    "        \n",
    "        paper_objects = {}\n",
    "        for i, paper in enumerate(pubmed_list):\n",
    "            paper_objects[f\"Paper {i+1}\"] = paper\n",
    "        \n",
    "        json_response['body']['papers'] = paper_objects\n",
    "\n",
    "        return json_response\n",
    "\n",
    "    else:\n",
    "        return {\n",
    "            'statusCode': 500\n",
    "        }\n"
   ]
  },
  {
   "cell_type": "code",
   "execution_count": 5,
   "metadata": {},
   "outputs": [
    {
     "data": {
      "text/plain": [
       "{'statusCode': 200,\n",
       " 'body': {'papers': {'Paper 1': {'Title': 'Real-world Evidence Comparing Tofacitinib and Vedolizumab in Anti-TNF-experienced Patients With Ulcerative Colitis.',\n",
       "    'Date': '26/06/2023',\n",
       "    'DOI': '10.1093/ibd/izad115'},\n",
       "   'Paper 2': {'Title': 'Effectiveness of Non-Budesonide Therapies in Management of Microscopic Colitis: A Systematic Review and Meta-analysis.',\n",
       "    'Date': '26/06/2023',\n",
       "    'DOI': '10.1007/s40265-023-01914-4'},\n",
       "   'Paper 3': {'Title': 'Letter: Experience of switching vedolizumab treatment from intravenous to subcutaneous formulation in Hungary.',\n",
       "    'Date': '2023',\n",
       "    'DOI': '10.1111/apt.17610'},\n",
       "   'Paper 4': {'Title': 'Comparing Patient-Reported Outcomes Among Anti-TNF Experienced Patients With Ulcerative Colitis Initiating Vedolizumab Versus Tofacitinib.',\n",
       "    'Date': '29/05/2023',\n",
       "    'DOI': '10.1093/crocol/otad031'},\n",
       "   'Paper 5': {'Title': 'Concurrent immune checkpoint inhibition and selective immunosuppressive therapy in patients with immune-related enterocolitis.',\n",
       "    'Date': '2023',\n",
       "    'DOI': '10.1136/jitc-2023-007195'}}}}"
      ]
     },
     "execution_count": 5,
     "metadata": {},
     "output_type": "execute_result"
    }
   ],
   "source": [
    "event = {'search': \"Entyvio\"}\n",
    "lambda_handler(event)"
   ]
  }
 ],
 "metadata": {
  "kernelspec": {
   "display_name": "Python 3",
   "language": "python",
   "name": "python3"
  },
  "language_info": {
   "codemirror_mode": {
    "name": "ipython",
    "version": 3
   },
   "file_extension": ".py",
   "mimetype": "text/x-python",
   "name": "python",
   "nbconvert_exporter": "python",
   "pygments_lexer": "ipython3",
   "version": "3.11.1"
  },
  "orig_nbformat": 4
 },
 "nbformat": 4,
 "nbformat_minor": 2
}
