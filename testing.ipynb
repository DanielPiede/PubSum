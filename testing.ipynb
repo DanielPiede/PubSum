{
 "cells": [
  {
   "cell_type": "code",
   "execution_count": 21,
   "metadata": {},
   "outputs": [
    {
     "name": "stdout",
     "output_type": "stream",
     "text": [
      "Getting 10 publications regarding Entyvio...\n",
      "Total number of publications containing Entyvio: 1837\n",
      "titles: ['Aliment Pharmacol Ther. 2023 Jul;58(2):262-263. doi: 10.1111/apt.17610.', 'Crohns Colitis 360. 2023 May 29;5(3):otad031. doi: 10.1093/crocol/otad031. eCollection 2023 Jul.', 'J Immunother Cancer. 2023 Jun;11(6):e007195. doi: 10.1136/jitc-2023-007195.', 'Medicine (Baltimore). 2023 May 19;102(20):e33784. doi: 10.1097/MD.0000000000033784.', 'Aliment Pharmacol Ther. 2023 Jun 15. doi: 10.1111/apt.17616.', 'Paediatr Drugs. 2023 Jun 15. doi: 10.1007/s40272-023-00579-6.', 'Sci Transl Med. 2023 Jun 14;15(700):eabq4006. doi: 10.1126/scitranslmed.abq4006. Epub 2023 Jun 14.', 'Rev Esp Enferm Dig. 2023 Jun 14. doi: 10.17235/reed.2023.9491/2023.', 'Zhonghua Yi Xue Za Zhi. 2023 Jun 20;103(23):1759-1766. doi: 10.3760/cma.j.cn112137-20221216-02663.', 'J Med Cases. 2023 May;14(5):155-161. doi: 10.14740/jmc4041. Epub 2023 May 31.']\n"
     ]
    }
   ],
   "source": [
    "#!/usr/bin/env python\n",
    "\n",
    "from Bio import Entrez\n",
    "from Bio import Medline\n",
    "\n",
    "MAX_COUNT = 10\n",
    "TERM = 'Entyvio'\n",
    "\n",
    "print('Getting {0} publications regarding {1}...'.format(MAX_COUNT, TERM))\n",
    "Entrez.email = 'A.N.Other@example.com'\n",
    "h = Entrez.esearch(db='pubmed', retmax=MAX_COUNT, term=TERM)\n",
    "result = Entrez.read(h)\n",
    "print('Total number of publications containing {0}: {1}'.format(TERM, result['Count']))\n",
    "ids = result['IdList']\n",
    "h = Entrez.efetch(db='pubmed', id=ids, rettype='medline', retmode='text')\n",
    "records = Medline.parse(h)\n",
    "\n",
    "titles = []\n",
    "sources = []\n",
    "for record in records:\n",
    "    ti = record.get('SO')\n",
    "    titles.append(ti)\n",
    "print('titles: {0}'.format(titles))"
   ]
  },
  {
   "cell_type": "code",
   "execution_count": 7,
   "metadata": {},
   "outputs": [
    {
     "name": "stdout",
     "output_type": "stream",
     "text": [
      "<_io.TextIOWrapper encoding='UTF-8'>\n"
     ]
    }
   ],
   "source": [
    "print(h)"
   ]
  },
  {
   "cell_type": "code",
   "execution_count": null,
   "metadata": {},
   "outputs": [],
   "source": []
  }
 ],
 "metadata": {
  "kernelspec": {
   "display_name": "Python 3",
   "language": "python",
   "name": "python3"
  },
  "language_info": {
   "codemirror_mode": {
    "name": "ipython",
    "version": 3
   },
   "file_extension": ".py",
   "mimetype": "text/x-python",
   "name": "python",
   "nbconvert_exporter": "python",
   "pygments_lexer": "ipython3",
   "version": "3.11.1"
  },
  "orig_nbformat": 4
 },
 "nbformat": 4,
 "nbformat_minor": 2
}
