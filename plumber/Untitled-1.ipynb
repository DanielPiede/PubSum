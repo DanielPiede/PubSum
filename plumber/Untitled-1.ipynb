{
 "cells": [
  {
   "cell_type": "code",
   "execution_count": 16,
   "metadata": {},
   "outputs": [
    {
     "ename": "AttributeError",
     "evalue": "'xml.etree.ElementTree.Element' object has no attribute 'next_sibling'",
     "output_type": "error",
     "traceback": [
      "\u001b[1;31m---------------------------------------------------------------------------\u001b[0m",
      "\u001b[1;31mAttributeError\u001b[0m                            Traceback (most recent call last)",
      "Cell \u001b[1;32mIn[16], line 20\u001b[0m\n\u001b[0;32m     17\u001b[0m texts \u001b[39m=\u001b[39m []\n\u001b[0;32m     19\u001b[0m \u001b[39mfor\u001b[39;00m text \u001b[39min\u001b[39;00m root\u001b[39m.\u001b[39mfindall(\u001b[39m\"\u001b[39m\u001b[39m./document/passage/text\u001b[39m\u001b[39m\"\u001b[39m):\n\u001b[1;32m---> 20\u001b[0m     sibling \u001b[39m=\u001b[39m text\u001b[39m.\u001b[39;49mnext_sibling\n\u001b[0;32m     21\u001b[0m     \u001b[39mwhile\u001b[39;00m sibling \u001b[39mis\u001b[39;00m \u001b[39mnot\u001b[39;00m \u001b[39mNone\u001b[39;00m:\n\u001b[0;32m     22\u001b[0m         \u001b[39mif\u001b[39;00m sibling\u001b[39m.\u001b[39mtag \u001b[39m==\u001b[39m \u001b[39m'\u001b[39m\u001b[39minfon\u001b[39m\u001b[39m'\u001b[39m \u001b[39mand\u001b[39;00m sibling\u001b[39m.\u001b[39mget(\u001b[39m'\u001b[39m\u001b[39mkey\u001b[39m\u001b[39m'\u001b[39m) \u001b[39m==\u001b[39m \u001b[39m'\u001b[39m\u001b[39mtype\u001b[39m\u001b[39m'\u001b[39m \u001b[39mand\u001b[39;00m sibling\u001b[39m.\u001b[39mtext \u001b[39m==\u001b[39m \u001b[39m'\u001b[39m\u001b[39mparagraph\u001b[39m\u001b[39m'\u001b[39m:\n",
      "\u001b[1;31mAttributeError\u001b[0m: 'xml.etree.ElementTree.Element' object has no attribute 'next_sibling'"
     ]
    }
   ],
   "source": [
    "import requests\n",
    "import xml.etree.ElementTree as ET\n",
    "\n",
    "# URL of the API\n",
    "api_url = \"https://www.ncbi.nlm.nih.gov/research/bionlp/RESTful/pmcoa.cgi/BioC_xml/PMC9322578/unicode\"\n",
    "\n",
    "# Send a GET request to the API URL\n",
    "response = requests.get(api_url)\n",
    "\n",
    "# Check if the request was successful\n",
    "if response.status_code == 200:\n",
    "    # Get the XML data from the response\n",
    "    xml_data = response.text\n",
    "\n",
    "    # Parse the XML data\n",
    "    root = ET.fromstring(xml_data)\n",
    "texts = []\n",
    "\n",
    "for text in root.findall(\"./document/passage/text\"):\n",
    "    sibling = text.next_sibling\n",
    "    while sibling is not None:\n",
    "        if sibling.tag == 'infon' and sibling.get('key') == 'type' and sibling.text == 'paragraph':\n",
    "            texts.append(text)\n",
    "            break\n",
    "        sibling = sibling.next_sibling\n",
    "\n",
    "\n",
    "\n",
    "else:\n",
    "    # Print an error message if the request was not successful\n",
    "    print(\"Failed to retrieve XML data. Error:\", response.status_code)\n"
   ]
  }
 ],
 "metadata": {
  "kernelspec": {
   "display_name": "Python 3",
   "language": "python",
   "name": "python3"
  },
  "language_info": {
   "codemirror_mode": {
    "name": "ipython",
    "version": 3
   },
   "file_extension": ".py",
   "mimetype": "text/x-python",
   "name": "python",
   "nbconvert_exporter": "python",
   "pygments_lexer": "ipython3",
   "version": "3.11.1"
  },
  "orig_nbformat": 4
 },
 "nbformat": 4,
 "nbformat_minor": 2
}
