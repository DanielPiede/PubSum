{
 "cells": [
  {
   "cell_type": "code",
   "execution_count": 5,
   "metadata": {},
   "outputs": [
    {
     "name": "stdout",
     "output_type": "stream",
     "text": [
      "Retrieved paper IDs: ['37352154', '37350775', '37349130', '37335733', '37322825', '37318737', '37315113', '37314124', '37305935', '37303967', '37300512', '37300328', '37289109', '37288829', '37287984', '37278369', '37274297', '37265220', '37265165', '37259387', '37254193', '37247641', '37246609', '37240501', '37239166', '37235748', '37232444', '37229320', '37227615', '37224287', '37221820', '37219360', '37216614', '37214561', '37214457', '37208197', '37199618', '37198111', '37191356', '37188381', '37176570', '37172505', '37172205', '37171478', '37170542', '37168636', '37168632', '37166016', '37164738', '37158585', '37150784', '37140705', '37124368', '37115969', '37115362', '37100708', '37100606', '37099011', '37084137', '37084088', '37074509', '37069838', '37063436', '37062627', '37057077', '29999729', '37053548', '37051622', '37048587', '37042978', '37042951', '37029786', '37010772', '36999101', '36998249', '36988594', '36986833', '36983432', '36982892', '36976548', '36966279', '36964060', '36951899', '36951142', '36946138', '36943800', '36933200', '36930430', '36929242', '36915867', '36913311', '36913261', '36906225', '36895282', '36884164', '36879404', '36866200', '36865445', '36864986', '36855750']\n"
     ]
    }
   ],
   "source": [
    "import requests\n",
    "import xml.etree.ElementTree as ET\n",
    "\n",
    "base_url = \"https://eutils.ncbi.nlm.nih.gov/entrez/eutils/\"\n",
    "api_url = base_url + \"esearch.fcgi\"\n",
    "params = {\n",
    "    \"db\": \"pubmed\",\n",
    "    \"retmode\": \"xml\",\n",
    "    \"retmax\": 100,  # Number of papers to retrieve (adjust as needed)\n",
    "    \"term\": \"Entyvio\"  # Modify the search query to match your needs\n",
    "}\n",
    "\n",
    "response = requests.get(api_url, params=params)\n",
    "if response.status_code == 200:\n",
    "    xml_content = response.content\n",
    "    root = ET.fromstring(xml_content)\n",
    "    paper_ids = [id_node.text for id_node in root.findall(\".//Id\")]\n",
    "    print(\"Retrieved paper IDs:\", paper_ids)\n",
    "else:\n",
    "    print(\"Error occurred while retrieving paper IDs:\", response.status_code)\n"
   ]
  },
  {
   "cell_type": "code",
   "execution_count": 6,
   "metadata": {},
   "outputs": [
    {
     "name": "stdout",
     "output_type": "stream",
     "text": [
      "Retrieved full text links: []\n"
     ]
    }
   ],
   "source": [
    "fetch_url = base_url + \"elink.fcgi\"\n",
    "fetch_params = {\n",
    "    \"dbfrom\": \"pubmed\",\n",
    "    \"db\": \"pmc\",\n",
    "    \"linkname\": \"pubmed_pmc\",\n",
    "    \"id\": \"36205507\"  # Replace with the desired paper ID\n",
    "}\n",
    "fetch_response = requests.get(fetch_url, params=fetch_params)\n",
    "if fetch_response.status_code == 200:\n",
    "    xml_content = fetch_response.content\n",
    "    root = ET.fromstring(xml_content)\n",
    "    link_nodes = root.findall(\".//Link\")\n",
    "    full_text_links = []\n",
    "    for link_node in link_nodes:\n",
    "        full_text_link = link_node.find(\"./Url\")\n",
    "        if full_text_link is not None:\n",
    "            full_text_links.append(full_text_link.text)\n",
    "    print(\"Retrieved full text links:\", full_text_links)\n",
    "else:\n",
    "    print(\"Error occurred while retrieving full text links:\", fetch_response.status_code)\n"
   ]
  },
  {
   "cell_type": "code",
   "execution_count": 7,
   "metadata": {},
   "outputs": [
    {
     "name": "stdout",
     "output_type": "stream",
     "text": [
      "Error occurred while retrieving full text: 404\n"
     ]
    }
   ],
   "source": [
    "doi = \"10.1234/example_doi\"  # Replace with the actual DOI\n",
    "headers = {\"Accept\": \"application/vnd.citationstyles.csl+json\"}\n",
    "full_text_url = f\"https://doi.org/{doi}\"\n",
    "response = requests.get(full_text_url, headers=headers)\n",
    "if response.status_code == 200:\n",
    "    # Process and store the retrieved full text content as needed\n",
    "    full_text_content = response.text\n",
    "    print(\"Retrieved full text for DOI:\", doi)\n",
    "else:\n",
    "    print(\"Error occurred while retrieving full text:\", response.status_code)"
   ]
  },
  {
   "cell_type": "code",
   "execution_count": 8,
   "metadata": {},
   "outputs": [
    {
     "name": "stdout",
     "output_type": "stream",
     "text": [
      "Retrieved full text for DOI: 10.1093/crocol/otad031\n"
     ]
    }
   ],
   "source": [
    "import requests\n",
    "\n",
    "doi = \"10.1093/crocol/otad031\"  # Replace with the DOI of the article you want to retrieve\n",
    "headers = {\"Accept\": \"application/vnd.citationstyles.csl+json\"}\n",
    "full_text_url = f\"https://doi.org/{doi}\"\n",
    "response = requests.get(full_text_url, headers=headers)\n",
    "if response.status_code == 200:\n",
    "    # Process and store the retrieved full text content as needed\n",
    "    full_text_content = response.text\n",
    "    print(\"Retrieved full text for DOI:\", doi)\n",
    "else:\n",
    "    print(\"Error occurred while retrieving full text:\", response.status_code)\n"
   ]
  },
  {
   "cell_type": "code",
   "execution_count": 45,
   "metadata": {},
   "outputs": [
    {
     "data": {
      "text/plain": [
       "'{\"indexed\":{\"date-parts\":[[2023,5,30]],\"date-time\":\"2023-05-30T04:25:52Z\",\"timestamp\":1685420752760},\"reference-count\":0,\"publisher\":\"Oxford University Press (OUP)\",\"license\":[{\"start\":{\"date-parts\":[[2023,5,29]],\"date-time\":\"2023-05-29T00:00:00Z\",\"timestamp\":1685318400000},\"content-version\":\"am\",\"delay-in-days\":0,\"URL\":\"https:\\\\/\\\\/creativecommons.org\\\\/licenses\\\\/by-nc\\\\/4.0\\\\/\"}],\"content-domain\":{\"domain\":[],\"crossmark-restriction\":false},\"abstract\":\"<jats:title>Abstract<\\\\/jats:title>\\\\n               <jats:sec>\\\\n                  <jats:title>Background<\\\\/jats:title>\\\\n                  <jats:p>Primary and secondary non-response to Anti-Tumor Necrosis Factor (TNF) therapy is common in patients with ulcerative colitis (UC), yet limited research has compared the effectiveness of subsequent biological therapy.<\\\\/jats:p>\\\\n               <\\\\/jats:sec>\\\\n               <jats:sec>\\\\n                  <jats:title>Objective<\\\\/jats:title>\\\\n                  <jats:p>We sought to compare the effectiveness of vedolizumab and tofacitinib in anti-TNF experienced patients with UC, focusing on patient-prioritized patient reported outcomes (PROs).<\\\\/jats:p>\\\\n               <\\\\/jats:sec>\\\\n               <jats:sec>\\\\n                  <jats:title>Methods<\\\\/jats:title>\\\\n                  <jats:p>We conducted a prospective cohort study nested within the Crohn\\\\u2019s &amp; Colitis Foundation\\\\u2019s IBD Partners and SPARC IBD initiatives. We identified anti-TNF experienced patients with UC initiating vedolizumab or ustekinumab and analyzed PROs reported approximately 6 months later (minimum 4 months, maximum 10 months). Co-primary outcomes were Patient Reported Outcome Measurement Information System (PROMIS) domains of Fatigue and Pain Interference. Secondary outcomes included PRO-2, treatment persistence, and need for colectomy.<\\\\/jats:p>\\\\n               <\\\\/jats:sec>\\\\n               <jats:sec>\\\\n                  <jats:title>Results<\\\\/jats:title>\\\\n                  <jats:p>We compared 72 vedolizumab initiators and 33 tofacitinib initiators. At follow-up, Pain Interference (P=0.04), but not Fatigue (P=0.53,) was lower among tofacitinib initiators. A trend towards higher Social Role Satisfaction was not significant. The remainder of secondary outcomes (PRO2, treatment persistence, colectomy) did not differ between treatment groups.<\\\\/jats:p>\\\\n               <\\\\/jats:sec>\\\\n               <jats:sec>\\\\n                  <jats:title>Conclusion<\\\\/jats:title>\\\\n                  <jats:p>Among anti-TNF experienced patients with UC, Pain Interference 4-10 months after treatment initiation was lower among tofacitinib users as compared to vedolizumab users. Many, but not all, secondary endpoints and subanalyses also favored favored tofacitinib. Future studies with larger sample sizes are needed to further evaluate these findings.<\\\\/jats:p>\\\\n               <\\\\/jats:sec>\",\"DOI\":\"10.1093\\\\/crocol\\\\/otad031\",\"type\":\"journal-article\",\"created\":{\"date-parts\":[[2023,5,29]],\"date-time\":\"2023-05-29T11:31:24Z\",\"timestamp\":1685359884000},\"source\":\"Crossref\",\"is-referenced-by-count\":0,\"title\":\"Comparing Patient Reported Outcomes among Anti-TNF Experienced Patients with Ulcerative Colitis Initiating Vedolizumab versus Tofacitinib\",\"prefix\":\"10.1093\",\"author\":[{\"ORCID\":\"http:\\\\/\\\\/orcid.org\\\\/0000-0002-0469-6856\",\"authenticated-orcid\":false,\"given\":\"Michael D\",\"family\":\"Kappelman\",\"sequence\":\"first\",\"affiliation\":[{\"name\":\"University of North Carolina at Chapel Hill , Chapel Hill, NC\"}]},{\"given\":\"Millie D\",\"family\":\"Long\",\"sequence\":\"additional\",\"affiliation\":[{\"name\":\"University of North Carolina at Chapel Hill , Chapel Hill, NC\"}]},{\"given\":\"Xian\",\"family\":\"Zhang\",\"sequence\":\"additional\",\"affiliation\":[{\"name\":\"University of North Carolina at Chapel Hill , Chapel Hill, NC\"}]},{\"given\":\"Feng-Chang\",\"family\":\"Lin\",\"sequence\":\"additional\",\"affiliation\":[{\"name\":\"University of North Carolina at Chapel Hill , Chapel Hill, NC\"}]},{\"given\":\"Laura\",\"family\":\"Weisbein\",\"sequence\":\"additional\",\"affiliation\":[{\"name\":\"University of North Carolina at Chapel Hill , Chapel Hill, NC\"}]},{\"given\":\"Wenli\",\"family\":\"Chen\",\"sequence\":\"additional\",\"affiliation\":[{\"name\":\"University of North Carolina at Chapel Hill , Chapel Hill, NC\"}]},{\"given\":\"Jessica\",\"family\":\"Burris\",\"sequence\":\"additional\",\"affiliation\":[{\"name\":\"Yale School of Medicine , New Haven, CT\"}]},{\"given\":\"Jennifer E\",\"family\":\"Dorand\",\"sequence\":\"additional\",\"affiliation\":[{\"name\":\"Crohn\\\\u2019s & Colitis Foundation, New York , New York\"}]},{\"given\":\"Lauren E\",\"family\":\"Parlett\",\"sequence\":\"additional\",\"affiliation\":[{\"name\":\"Healthcore , Wilmington, DE\"}]},{\"given\":\"Tara\",\"family\":\"Fehlmann\",\"sequence\":\"additional\",\"affiliation\":[{\"name\":\"Crohn\\\\u2019s & Colitis Foundation, New York , New York\"}]},{\"given\":\"Colleen M\",\"family\":\"Brensinger\",\"sequence\":\"additional\",\"affiliation\":[{\"name\":\"University of Pennsylvania Perelman School of Medicine , Philadelphia, PA\"}]},{\"given\":\"Kevin\",\"family\":\"Haynes\",\"sequence\":\"additional\",\"affiliation\":[{\"name\":\"Janssen Research & Development , Titusville, NJ\"}]},{\"given\":\"Vinit\",\"family\":\"Nair V\",\"sequence\":\"additional\",\"affiliation\":[{\"name\":\"Humana , Lexington, KY\"}]},{\"given\":\"Alan F\",\"family\":\"Kaul\",\"sequence\":\"additional\",\"affiliation\":[{\"name\":\"Medical Outcomes Management and the Practice Research Network (PRACnet). Sharon , MA\"}]},{\"given\":\"Angela\",\"family\":\"Dobes\",\"sequence\":\"additional\",\"affiliation\":[{\"name\":\"Crohn\\\\u2019s & Colitis Foundation, New York , New York\"}]},{\"given\":\"James D\",\"family\":\"Lewis JD\",\"sequence\":\"additional\",\"affiliation\":[{\"name\":\"University of Pennsylvania Perelman School of Medicine , Philadelphia, PA\"}]},{\"name\":\"the SPARC IBD Investigators\",\"sequence\":\"additional\",\"affiliation\":[]}],\"member\":\"286\",\"published-online\":{\"date-parts\":[[2023,5,29]]},\"container-title\":\"Crohn\\'s &amp; Colitis 360\",\"original-title\":[],\"language\":\"en\",\"link\":[{\"URL\":\"https:\\\\/\\\\/academic.oup.com\\\\/crohnscolitis360\\\\/advance-article-pdf\\\\/doi\\\\/10.1093\\\\/crocol\\\\/otad031\\\\/50476431\\\\/otad031.pdf\",\"content-type\":\"application\\\\/pdf\",\"content-version\":\"am\",\"intended-application\":\"syndication\"},{\"URL\":\"https:\\\\/\\\\/academic.oup.com\\\\/crohnscolitis360\\\\/advance-article-pdf\\\\/doi\\\\/10.1093\\\\/crocol\\\\/otad031\\\\/50476431\\\\/otad031.pdf\",\"content-type\":\"unspecified\",\"content-version\":\"vor\",\"intended-application\":\"similarity-checking\"}],\"deposited\":{\"date-parts\":[[2023,5,29]],\"date-time\":\"2023-05-29T11:31:25Z\",\"timestamp\":1685359885000},\"score\":1,\"resource\":{\"primary\":{\"URL\":\"https:\\\\/\\\\/academic.oup.com\\\\/crohnscolitis360\\\\/advance-article\\\\/doi\\\\/10.1093\\\\/crocol\\\\/otad031\\\\/7184412\"}},\"subtitle\":[],\"short-title\":[],\"issued\":{\"date-parts\":[[2023,5,29]]},\"references-count\":0,\"URL\":\"http:\\\\/\\\\/dx.doi.org\\\\/10.1093\\\\/crocol\\\\/otad031\",\"relation\":{},\"ISSN\":[\"2631-827X\"],\"subject\":[\"Gastroenterology\"],\"published\":{\"date-parts\":[[2023,5,29]]}}'"
      ]
     },
     "execution_count": 45,
     "metadata": {},
     "output_type": "execute_result"
    }
   ],
   "source": [
    "full_text_content"
   ]
  },
  {
   "cell_type": "code",
   "execution_count": 28,
   "metadata": {},
   "outputs": [
    {
     "data": {
      "text/plain": [
       "'http://journals.sagepub.com/doi/pdf/10.1177/1756283X16668093'"
      ]
     },
     "execution_count": 28,
     "metadata": {},
     "output_type": "execute_result"
    }
   ],
   "source": [
    "from crossref.restful import Works\n",
    "\n",
    "works = Works()\n",
    "\n",
    "w1 = works.doi('10.1177/1756283X16668093')\n",
    "w1['link'][0]['URL']\n"
   ]
  }
 ],
 "metadata": {
  "kernelspec": {
   "display_name": "Python 3",
   "language": "python",
   "name": "python3"
  },
  "language_info": {
   "codemirror_mode": {
    "name": "ipython",
    "version": 3
   },
   "file_extension": ".py",
   "mimetype": "text/x-python",
   "name": "python",
   "nbconvert_exporter": "python",
   "pygments_lexer": "ipython3",
   "version": "3.11.1"
  },
  "orig_nbformat": 4
 },
 "nbformat": 4,
 "nbformat_minor": 2
}
